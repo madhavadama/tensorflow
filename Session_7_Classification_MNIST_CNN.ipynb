{
  "nbformat": 4,
  "nbformat_minor": 0,
  "metadata": {
    "anaconda-cloud": {},
    "kernelspec": {
      "display_name": "Python [Root]",
      "language": "python",
      "name": "Python [Root]"
    },
    "language_info": {
      "codemirror_mode": {
        "name": "ipython",
        "version": 3
      },
      "file_extension": ".py",
      "mimetype": "text/x-python",
      "name": "python",
      "nbconvert_exporter": "python",
      "pygments_lexer": "ipython3",
      "version": "3.5.2"
    },
    "colab": {
      "name": "Copy of Session_7_Classification_MNIST_CNN.ipynb",
      "provenance": [],
      "collapsed_sections": [],
      "include_colab_link": true
    },
    "accelerator": "GPU"
  },
  "cells": [
    {
      "cell_type": "markdown",
      "metadata": {
        "id": "view-in-github",
        "colab_type": "text"
      },
      "source": [
        "<a href=\"https://colab.research.google.com/github/madhavadama/tensorflow/blob/master/Session_7_Classification_MNIST_CNN.ipynb\" target=\"_parent\"><img src=\"https://colab.research.google.com/assets/colab-badge.svg\" alt=\"Open In Colab\"/></a>"
      ]
    },
    {
      "cell_type": "markdown",
      "metadata": {
        "id": "vHu7yjBMpkM8",
        "colab_type": "text"
      },
      "source": [
        "# MNIST Classification using CNN"
      ]
    },
    {
      "cell_type": "markdown",
      "metadata": {
        "id": "DjFBCV_rpkNK",
        "colab_type": "text"
      },
      "source": [
        "Step 1 : Collect Data"
      ]
    },
    {
      "cell_type": "code",
      "metadata": {
        "id": "7pb-pAbwpkNX",
        "colab_type": "code",
        "outputId": "0a895415-d771-43d5-9680-30ad467bcfca",
        "colab": {
          "base_uri": "https://localhost:8080/",
          "height": 530
        }
      },
      "source": [
        "from tensorflow.examples.tutorials.mnist import input_data\n",
        "mnist = input_data.read_data_sets('MNIST_data', one_hot=True)"
      ],
      "execution_count": 0,
      "outputs": [
        {
          "output_type": "stream",
          "text": [
            "WARNING:tensorflow:From <ipython-input-1-93d8da72a918>:2: read_data_sets (from tensorflow.contrib.learn.python.learn.datasets.mnist) is deprecated and will be removed in a future version.\n",
            "Instructions for updating:\n",
            "Please use alternatives such as official/mnist/dataset.py from tensorflow/models.\n",
            "WARNING:tensorflow:From /usr/local/lib/python3.6/dist-packages/tensorflow/contrib/learn/python/learn/datasets/mnist.py:260: maybe_download (from tensorflow.contrib.learn.python.learn.datasets.base) is deprecated and will be removed in a future version.\n",
            "Instructions for updating:\n",
            "Please write your own downloading logic.\n",
            "WARNING:tensorflow:From /usr/local/lib/python3.6/dist-packages/tensorflow/contrib/learn/python/learn/datasets/base.py:252: _internal_retry.<locals>.wrap.<locals>.wrapped_fn (from tensorflow.contrib.learn.python.learn.datasets.base) is deprecated and will be removed in a future version.\n",
            "Instructions for updating:\n",
            "Please use urllib or similar directly.\n",
            "Successfully downloaded train-images-idx3-ubyte.gz 9912422 bytes.\n",
            "WARNING:tensorflow:From /usr/local/lib/python3.6/dist-packages/tensorflow/contrib/learn/python/learn/datasets/mnist.py:262: extract_images (from tensorflow.contrib.learn.python.learn.datasets.mnist) is deprecated and will be removed in a future version.\n",
            "Instructions for updating:\n",
            "Please use tf.data to implement this functionality.\n",
            "Extracting MNIST_data/train-images-idx3-ubyte.gz\n",
            "Successfully downloaded train-labels-idx1-ubyte.gz 28881 bytes.\n",
            "WARNING:tensorflow:From /usr/local/lib/python3.6/dist-packages/tensorflow/contrib/learn/python/learn/datasets/mnist.py:267: extract_labels (from tensorflow.contrib.learn.python.learn.datasets.mnist) is deprecated and will be removed in a future version.\n",
            "Instructions for updating:\n",
            "Please use tf.data to implement this functionality.\n",
            "Extracting MNIST_data/train-labels-idx1-ubyte.gz\n",
            "WARNING:tensorflow:From /usr/local/lib/python3.6/dist-packages/tensorflow/contrib/learn/python/learn/datasets/mnist.py:110: dense_to_one_hot (from tensorflow.contrib.learn.python.learn.datasets.mnist) is deprecated and will be removed in a future version.\n",
            "Instructions for updating:\n",
            "Please use tf.one_hot on tensors.\n",
            "Successfully downloaded t10k-images-idx3-ubyte.gz 1648877 bytes.\n",
            "Extracting MNIST_data/t10k-images-idx3-ubyte.gz\n",
            "Successfully downloaded t10k-labels-idx1-ubyte.gz 4542 bytes.\n",
            "Extracting MNIST_data/t10k-labels-idx1-ubyte.gz\n",
            "WARNING:tensorflow:From /usr/local/lib/python3.6/dist-packages/tensorflow/contrib/learn/python/learn/datasets/mnist.py:290: DataSet.__init__ (from tensorflow.contrib.learn.python.learn.datasets.mnist) is deprecated and will be removed in a future version.\n",
            "Instructions for updating:\n",
            "Please use alternatives such as official/mnist/dataset.py from tensorflow/models.\n"
          ],
          "name": "stdout"
        }
      ]
    },
    {
      "cell_type": "markdown",
      "metadata": {
        "id": "qfbaNE3OpkN4",
        "colab_type": "text"
      },
      "source": [
        "Step 1a : Get Training and Test Data"
      ]
    },
    {
      "cell_type": "code",
      "metadata": {
        "id": "xwX26YTQpkOB",
        "colab_type": "code",
        "colab": {}
      },
      "source": [
        "trainX = mnist.train.images\n",
        "trainY = mnist.train.labels"
      ],
      "execution_count": 0,
      "outputs": []
    },
    {
      "cell_type": "code",
      "metadata": {
        "id": "190lxdUqpkOM",
        "colab_type": "code",
        "colab": {}
      },
      "source": [
        "testX = mnist.test.images\n",
        "testY = mnist.test.labels"
      ],
      "execution_count": 0,
      "outputs": []
    },
    {
      "cell_type": "markdown",
      "metadata": {
        "id": "30OiEHBYpkOQ",
        "colab_type": "text"
      },
      "source": [
        "Set the Seed"
      ]
    },
    {
      "cell_type": "code",
      "metadata": {
        "id": "etXtEtNLpkOR",
        "colab_type": "code",
        "colab": {}
      },
      "source": [
        "import numpy as np"
      ],
      "execution_count": 0,
      "outputs": []
    },
    {
      "cell_type": "code",
      "metadata": {
        "id": "UifMtLcJpkOW",
        "colab_type": "code",
        "colab": {}
      },
      "source": [
        "np.random.seed(42)"
      ],
      "execution_count": 0,
      "outputs": []
    },
    {
      "cell_type": "code",
      "metadata": {
        "id": "nyxBOjoQpkOY",
        "colab_type": "code",
        "outputId": "841b1ed0-01b2-4971-a798-bc9ad6652b5f",
        "colab": {
          "base_uri": "https://localhost:8080/",
          "height": 34
        }
      },
      "source": [
        "trainX.shape"
      ],
      "execution_count": 0,
      "outputs": [
        {
          "output_type": "execute_result",
          "data": {
            "text/plain": [
              "(55000, 784)"
            ]
          },
          "metadata": {
            "tags": []
          },
          "execution_count": 6
        }
      ]
    },
    {
      "cell_type": "markdown",
      "metadata": {
        "id": "_lPutQhhpkOh",
        "colab_type": "text"
      },
      "source": [
        "# Build the Graph"
      ]
    },
    {
      "cell_type": "markdown",
      "metadata": {
        "id": "vl2bXlx-pkOw",
        "colab_type": "text"
      },
      "source": [
        "import Keras Models and Layers"
      ]
    },
    {
      "cell_type": "code",
      "metadata": {
        "id": "MJjpbaoTpkOy",
        "colab_type": "code",
        "colab": {}
      },
      "source": [
        "from tensorflow.python.keras.models import Sequential"
      ],
      "execution_count": 0,
      "outputs": []
    },
    {
      "cell_type": "code",
      "metadata": {
        "id": "WI5LPhI4pkO0",
        "colab_type": "code",
        "colab": {}
      },
      "source": [
        "from tensorflow.python.keras.layers import Dense, Dropout, Conv2D, Flatten, Reshape, MaxPool2D"
      ],
      "execution_count": 0,
      "outputs": []
    },
    {
      "cell_type": "markdown",
      "metadata": {
        "id": "yYuunmv8pkO6",
        "colab_type": "text"
      },
      "source": [
        "Start a Sequential model"
      ]
    },
    {
      "cell_type": "code",
      "metadata": {
        "id": "99YNT4eepkO8",
        "colab_type": "code",
        "colab": {}
      },
      "source": [
        "model = Sequential()"
      ],
      "execution_count": 0,
      "outputs": []
    },
    {
      "cell_type": "markdown",
      "metadata": {
        "id": "6iQiTh9GpkO_",
        "colab_type": "text"
      },
      "source": [
        "Reshape Data"
      ]
    },
    {
      "cell_type": "code",
      "metadata": {
        "id": "q6xl7YZ7pkPA",
        "colab_type": "code",
        "colab": {}
      },
      "source": [
        "# first level flattening , for it be proccessed in Conv Layer \n",
        "model.add(Reshape((28,28,1),input_shape=(784,)))"
      ],
      "execution_count": 0,
      "outputs": []
    },
    {
      "cell_type": "markdown",
      "metadata": {
        "id": "_X6u9PnRpkPC",
        "colab_type": "text"
      },
      "source": [
        "Add first Convolutional layer : 32 filters 3x3 with stride as 1x1"
      ]
    },
    {
      "cell_type": "code",
      "metadata": {
        "id": "7YgaOkCYpkPC",
        "colab_type": "code",
        "colab": {}
      },
      "source": [
        "# if you have color image, then use Conv3D \n",
        "model.add(Conv2D(32,kernel_size=(5,5),activation='relu',strides=(1,1)))\n",
        "#26x26x32"
      ],
      "execution_count": 0,
      "outputs": []
    },
    {
      "cell_type": "markdown",
      "metadata": {
        "id": "UVZ2rRCdpkPE",
        "colab_type": "text"
      },
      "source": [
        "Add 2nd Convolutional layer : 64 filters 3x3 with stride as 1x1"
      ]
    },
    {
      "cell_type": "code",
      "metadata": {
        "id": "xJFcsWetpkPF",
        "colab_type": "code",
        "colab": {}
      },
      "source": [
        "model.add(Conv2D(64,kernel_size=(5,5),strides=(1,1),activation='relu'))\n",
        "#24x24x64"
      ],
      "execution_count": 0,
      "outputs": []
    },
    {
      "cell_type": "markdown",
      "metadata": {
        "id": "jLCqmA9npkPH",
        "colab_type": "text"
      },
      "source": [
        "Add MaxPooling layer"
      ]
    },
    {
      "cell_type": "code",
      "metadata": {
        "id": "W9v76w6VpkPH",
        "colab_type": "code",
        "colab": {}
      },
      "source": [
        "model.add(MaxPool2D(pool_size=(2,2)))\n",
        "#6x6x64"
      ],
      "execution_count": 0,
      "outputs": []
    },
    {
      "cell_type": "markdown",
      "metadata": {
        "id": "xTb3PKtkpkPJ",
        "colab_type": "text"
      },
      "source": [
        "Add Dropout"
      ]
    },
    {
      "cell_type": "code",
      "metadata": {
        "id": "CF_c118xpkPK",
        "colab_type": "code",
        "colab": {}
      },
      "source": [
        "# model.add(Dropout(0.25))"
      ],
      "execution_count": 0,
      "outputs": []
    },
    {
      "cell_type": "markdown",
      "metadata": {
        "id": "YbBUc6h_pkPN",
        "colab_type": "text"
      },
      "source": [
        "Flatten the Output"
      ]
    },
    {
      "cell_type": "code",
      "metadata": {
        "id": "t-KXR_c1pkPN",
        "colab_type": "code",
        "colab": {}
      },
      "source": [
        "model.add(Flatten())"
      ],
      "execution_count": 0,
      "outputs": []
    },
    {
      "cell_type": "markdown",
      "metadata": {
        "id": "8WxGiyhqpkPp",
        "colab_type": "text"
      },
      "source": [
        "Add Fully Connected Layer - 128 neurons"
      ]
    },
    {
      "cell_type": "code",
      "metadata": {
        "id": "VZCEPYiQpkPq",
        "colab_type": "code",
        "colab": {}
      },
      "source": [
        "# fully connected layer \n",
        "model.add(Dense(128,activation='relu'))"
      ],
      "execution_count": 0,
      "outputs": []
    },
    {
      "cell_type": "markdown",
      "metadata": {
        "id": "h1ItnLINpkPs",
        "colab_type": "text"
      },
      "source": [
        "Another Dropout"
      ]
    },
    {
      "cell_type": "code",
      "metadata": {
        "id": "ECH0eHrOpkPt",
        "colab_type": "code",
        "colab": {}
      },
      "source": [
        "# model.add(Dropout(0.2))\n",
        "#Suppose you have 128 units in the layer and set the keep_prob to 0.5, Then the activation of 64 randomly chosen units out of 128 will be set to 0, and the remaining 64 will be scaled by a factor of 50. I think a more precise description is that you only keep the activation of 50 percent of the nodes."
      ],
      "execution_count": 0,
      "outputs": []
    },
    {
      "cell_type": "markdown",
      "metadata": {
        "id": "jMZYPpJrpkPw",
        "colab_type": "text"
      },
      "source": [
        "Add Softmax Layer"
      ]
    },
    {
      "cell_type": "code",
      "metadata": {
        "id": "iWN01IC8pkPx",
        "colab_type": "code",
        "colab": {}
      },
      "source": [
        "model.add(Dense(10,activation='softmax'))"
      ],
      "execution_count": 0,
      "outputs": []
    },
    {
      "cell_type": "markdown",
      "metadata": {
        "collapsed": true,
        "id": "lb-pkNlXpkPz",
        "colab_type": "text"
      },
      "source": [
        "Compile model    "
      ]
    },
    {
      "cell_type": "code",
      "metadata": {
        "id": "m9qBVFCcpkPz",
        "colab_type": "code",
        "colab": {}
      },
      "source": [
        "model.compile(optimizer='adam',loss='categorical_crossentropy',metrics=['accuracy'])"
      ],
      "execution_count": 0,
      "outputs": []
    },
    {
      "cell_type": "markdown",
      "metadata": {
        "id": "Tn20LC3apkP0",
        "colab_type": "text"
      },
      "source": [
        "Train"
      ]
    },
    {
      "cell_type": "code",
      "metadata": {
        "id": "KrPKFPm4pkP1",
        "colab_type": "code",
        "outputId": "e37a5664-0cbb-4cf3-ba06-d008cbfc1a40",
        "colab": {
          "base_uri": "https://localhost:8080/",
          "height": 731
        }
      },
      "source": [
        "model.fit(trainX,trainY,epochs=20,batch_size=500,\n",
        "          validation_data=(testX,testY))"
      ],
      "execution_count": 0,
      "outputs": [
        {
          "output_type": "stream",
          "text": [
            "Train on 55000 samples, validate on 10000 samples\n",
            "Epoch 1/20\n",
            "55000/55000 [==============================] - 4s 81us/sample - loss: 0.3117 - acc: 0.9093 - val_loss: 0.0769 - val_acc: 0.9767\n",
            "Epoch 2/20\n",
            "55000/55000 [==============================] - 4s 77us/sample - loss: 0.0643 - acc: 0.9812 - val_loss: 0.0397 - val_acc: 0.9875\n",
            "Epoch 3/20\n",
            "55000/55000 [==============================] - 4s 77us/sample - loss: 0.0459 - acc: 0.9864 - val_loss: 0.0358 - val_acc: 0.9879\n",
            "Epoch 4/20\n",
            "55000/55000 [==============================] - 4s 77us/sample - loss: 0.0332 - acc: 0.9901 - val_loss: 0.0299 - val_acc: 0.9894\n",
            "Epoch 5/20\n",
            "55000/55000 [==============================] - 4s 77us/sample - loss: 0.0265 - acc: 0.9921 - val_loss: 0.0284 - val_acc: 0.9896\n",
            "Epoch 6/20\n",
            "55000/55000 [==============================] - 4s 77us/sample - loss: 0.0207 - acc: 0.9935 - val_loss: 0.0309 - val_acc: 0.9894\n",
            "Epoch 7/20\n",
            "55000/55000 [==============================] - 4s 77us/sample - loss: 0.0174 - acc: 0.9945 - val_loss: 0.0286 - val_acc: 0.9900\n",
            "Epoch 8/20\n",
            "55000/55000 [==============================] - 4s 77us/sample - loss: 0.0138 - acc: 0.9955 - val_loss: 0.0248 - val_acc: 0.9910\n",
            "Epoch 9/20\n",
            "55000/55000 [==============================] - 4s 77us/sample - loss: 0.0109 - acc: 0.9966 - val_loss: 0.0304 - val_acc: 0.9901\n",
            "Epoch 10/20\n",
            "55000/55000 [==============================] - 4s 77us/sample - loss: 0.0077 - acc: 0.9979 - val_loss: 0.0267 - val_acc: 0.9913\n",
            "Epoch 11/20\n",
            "55000/55000 [==============================] - 4s 77us/sample - loss: 0.0066 - acc: 0.9980 - val_loss: 0.0357 - val_acc: 0.9888\n",
            "Epoch 12/20\n",
            "55000/55000 [==============================] - 4s 77us/sample - loss: 0.0076 - acc: 0.9974 - val_loss: 0.0365 - val_acc: 0.9890\n",
            "Epoch 13/20\n",
            "55000/55000 [==============================] - 4s 77us/sample - loss: 0.0063 - acc: 0.9978 - val_loss: 0.0286 - val_acc: 0.9904\n",
            "Epoch 14/20\n",
            "55000/55000 [==============================] - 4s 77us/sample - loss: 0.0053 - acc: 0.9983 - val_loss: 0.0259 - val_acc: 0.9917\n",
            "Epoch 15/20\n",
            "55000/55000 [==============================] - 4s 77us/sample - loss: 0.0038 - acc: 0.9991 - val_loss: 0.0308 - val_acc: 0.9905\n",
            "Epoch 16/20\n",
            "55000/55000 [==============================] - 4s 77us/sample - loss: 0.0021 - acc: 0.9994 - val_loss: 0.0273 - val_acc: 0.9923\n",
            "Epoch 17/20\n",
            "55000/55000 [==============================] - 4s 77us/sample - loss: 0.0016 - acc: 0.9996 - val_loss: 0.0301 - val_acc: 0.9914\n",
            "Epoch 18/20\n",
            "55000/55000 [==============================] - 4s 77us/sample - loss: 0.0014 - acc: 0.9996 - val_loss: 0.0464 - val_acc: 0.9895\n",
            "Epoch 19/20\n",
            "55000/55000 [==============================] - 4s 77us/sample - loss: 0.0024 - acc: 0.9993 - val_loss: 0.0362 - val_acc: 0.9913\n",
            "Epoch 20/20\n",
            "55000/55000 [==============================] - 4s 77us/sample - loss: 0.0025 - acc: 0.9991 - val_loss: 0.0327 - val_acc: 0.9915\n"
          ],
          "name": "stdout"
        },
        {
          "output_type": "execute_result",
          "data": {
            "text/plain": [
              "<tensorflow.python.keras.callbacks.History at 0x7ff1207d2208>"
            ]
          },
          "metadata": {
            "tags": []
          },
          "execution_count": 49
        }
      ]
    },
    {
      "cell_type": "markdown",
      "metadata": {
        "id": "LfKKskWUJ9FM",
        "colab_type": "text"
      },
      "source": [
        "3 x 3 Filer \n",
        "\n",
        "\n",
        "\n",
        "55000/55000 [==============================] - 5s 82us/sample - loss: 0.0309 - acc: 0.9897 - val_loss: 0.0321 - val_acc: 0.9894\n",
        "<tensorflow.python.keras.callbacks.History at 0x7ff16cf6f470>\n",
        "\n",
        "\n",
        "\n",
        "5 x 5 \n",
        "\n",
        "\n",
        "Epoch 20/20\n",
        "55000/55000 [==============================] - 5s 94us/sample - loss: 0.0111 - acc: 0.9962 - val_loss: 0.0197 - val_acc: 0.9936\n",
        "<tensorflow.python.keras.callbacks.History at 0x7ff120d1b518>\n",
        "\n",
        "\n",
        "\n",
        "Total params: 229,706\n",
        "Trainable params: 229,706\n",
        "Non-trainable params: 0\n",
        "\n",
        "\n",
        "\n",
        "\n",
        "# 5 x 5 without droput \n",
        "\n",
        "\n",
        "Epoch 20/20\n",
        "55000/55000 [==============================] - 4s 77us/sample - loss: 0.0025 - acc: 0.9991 - val_loss: 0.0327 - val_acc: 0.9915\n",
        "<tensorflow.python.keras.callbacks.History at 0x7ff1207d2208>\n",
        "\n",
        "\n",
        "Total params: 872,714\n",
        "Trainable params: 872,714\n",
        "Non-trainable params: 0\n",
        "\n"
      ]
    },
    {
      "cell_type": "markdown",
      "metadata": {
        "id": "nqzl4iRopkP3",
        "colab_type": "text"
      },
      "source": [
        "Saving Model as HDF5 file"
      ]
    },
    {
      "cell_type": "code",
      "metadata": {
        "id": "6rKkXDgFpkP4",
        "colab_type": "code",
        "colab": {}
      },
      "source": [
        "model.save('keras_cnn.h5')"
      ],
      "execution_count": 0,
      "outputs": []
    },
    {
      "cell_type": "markdown",
      "metadata": {
        "id": "snrYE4HQpkP5",
        "colab_type": "text"
      },
      "source": [
        "Show Model"
      ]
    },
    {
      "cell_type": "code",
      "metadata": {
        "id": "kepTixEApkP6",
        "colab_type": "code",
        "outputId": "987bb68f-cccf-40d4-a2da-feeafb0e0c75",
        "colab": {
          "base_uri": "https://localhost:8080/",
          "height": 391
        }
      },
      "source": [
        "model.summary()"
      ],
      "execution_count": 0,
      "outputs": [
        {
          "output_type": "stream",
          "text": [
            "Model: \"sequential_2\"\n",
            "_________________________________________________________________\n",
            "Layer (type)                 Output Shape              Param #   \n",
            "=================================================================\n",
            "reshape_2 (Reshape)          (None, 28, 28, 1)         0         \n",
            "_________________________________________________________________\n",
            "conv2d_6 (Conv2D)            (None, 24, 24, 32)        832       \n",
            "_________________________________________________________________\n",
            "conv2d_7 (Conv2D)            (None, 20, 20, 64)        51264     \n",
            "_________________________________________________________________\n",
            "max_pooling2d_3 (MaxPooling2 (None, 10, 10, 64)        0         \n",
            "_________________________________________________________________\n",
            "flatten_2 (Flatten)          (None, 6400)              0         \n",
            "_________________________________________________________________\n",
            "dense_4 (Dense)              (None, 128)               819328    \n",
            "_________________________________________________________________\n",
            "dense_5 (Dense)              (None, 10)                1290      \n",
            "=================================================================\n",
            "Total params: 872,714\n",
            "Trainable params: 872,714\n",
            "Non-trainable params: 0\n",
            "_________________________________________________________________\n"
          ],
          "name": "stdout"
        }
      ]
    }
  ]
}