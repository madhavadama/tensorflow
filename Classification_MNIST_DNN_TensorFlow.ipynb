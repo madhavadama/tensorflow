{
  "nbformat": 4,
  "nbformat_minor": 0,
  "metadata": {
    "anaconda-cloud": {},
    "kernelspec": {
      "name": "python3",
      "display_name": "Python 3"
    },
    "colab": {
      "name": "Copy of Classification_MNIST_DNN_TensorFlow.ipynb",
      "provenance": [],
      "include_colab_link": true
    },
    "accelerator": "GPU"
  },
  "cells": [
    {
      "cell_type": "markdown",
      "metadata": {
        "id": "view-in-github",
        "colab_type": "text"
      },
      "source": [
        "<a href=\"https://colab.research.google.com/github/madhavadama/tensorflow/blob/master/Classification_MNIST_DNN_TensorFlow.ipynb\" target=\"_parent\"><img src=\"https://colab.research.google.com/assets/colab-badge.svg\" alt=\"Open In Colab\"/></a>"
      ]
    },
    {
      "cell_type": "markdown",
      "metadata": {
        "id": "7Dzdup9KW8yU",
        "colab_type": "text"
      },
      "source": [
        "# MNIST Classification with DNN"
      ]
    },
    {
      "cell_type": "code",
      "metadata": {
        "id": "EBxGFgCPW8yX",
        "colab_type": "code",
        "colab": {}
      },
      "source": [
        "import tensorflow as tf"
      ],
      "execution_count": 0,
      "outputs": []
    },
    {
      "cell_type": "code",
      "metadata": {
        "id": "euSSgznuW8yk",
        "colab_type": "code",
        "colab": {}
      },
      "source": [
        "#Reset tensorflow graph\n",
        "tf.reset_default_graph()"
      ],
      "execution_count": 0,
      "outputs": []
    },
    {
      "cell_type": "markdown",
      "metadata": {
        "id": "grQQ6bERW8yu",
        "colab_type": "text"
      },
      "source": [
        "Step 1 : Collect Data"
      ]
    },
    {
      "cell_type": "code",
      "metadata": {
        "id": "OgZl0Q0GW8yv",
        "colab_type": "code",
        "outputId": "32f3d345-2da4-4804-d75a-6f7ff71c9f95",
        "colab": {
          "base_uri": "https://localhost:8080/",
          "height": 496
        }
      },
      "source": [
        "from tensorflow.examples.tutorials.mnist import input_data\n",
        "mnists = input_data.read_data_sets('MNIST_data')\n",
        "trai = mnists.train.images\n",
        "trt = mnists.train.labels\n",
        "trt[0:1]"
      ],
      "execution_count": 0,
      "outputs": [
        {
          "output_type": "stream",
          "text": [
            "WARNING:tensorflow:From <ipython-input-4-cea1a206c578>:2: read_data_sets (from tensorflow.contrib.learn.python.learn.datasets.mnist) is deprecated and will be removed in a future version.\n",
            "Instructions for updating:\n",
            "Please use alternatives such as official/mnist/dataset.py from tensorflow/models.\n",
            "WARNING:tensorflow:From /usr/local/lib/python3.6/dist-packages/tensorflow/contrib/learn/python/learn/datasets/mnist.py:260: maybe_download (from tensorflow.contrib.learn.python.learn.datasets.base) is deprecated and will be removed in a future version.\n",
            "Instructions for updating:\n",
            "Please write your own downloading logic.\n",
            "WARNING:tensorflow:From /usr/local/lib/python3.6/dist-packages/tensorflow/contrib/learn/python/learn/datasets/base.py:252: _internal_retry.<locals>.wrap.<locals>.wrapped_fn (from tensorflow.contrib.learn.python.learn.datasets.base) is deprecated and will be removed in a future version.\n",
            "Instructions for updating:\n",
            "Please use urllib or similar directly.\n",
            "Successfully downloaded train-images-idx3-ubyte.gz 9912422 bytes.\n",
            "WARNING:tensorflow:From /usr/local/lib/python3.6/dist-packages/tensorflow/contrib/learn/python/learn/datasets/mnist.py:262: extract_images (from tensorflow.contrib.learn.python.learn.datasets.mnist) is deprecated and will be removed in a future version.\n",
            "Instructions for updating:\n",
            "Please use tf.data to implement this functionality.\n",
            "Extracting MNIST_data/train-images-idx3-ubyte.gz\n",
            "Successfully downloaded train-labels-idx1-ubyte.gz 28881 bytes.\n",
            "WARNING:tensorflow:From /usr/local/lib/python3.6/dist-packages/tensorflow/contrib/learn/python/learn/datasets/mnist.py:267: extract_labels (from tensorflow.contrib.learn.python.learn.datasets.mnist) is deprecated and will be removed in a future version.\n",
            "Instructions for updating:\n",
            "Please use tf.data to implement this functionality.\n",
            "Extracting MNIST_data/train-labels-idx1-ubyte.gz\n",
            "Successfully downloaded t10k-images-idx3-ubyte.gz 1648877 bytes.\n",
            "Extracting MNIST_data/t10k-images-idx3-ubyte.gz\n",
            "Successfully downloaded t10k-labels-idx1-ubyte.gz 4542 bytes.\n",
            "Extracting MNIST_data/t10k-labels-idx1-ubyte.gz\n",
            "WARNING:tensorflow:From /usr/local/lib/python3.6/dist-packages/tensorflow/contrib/learn/python/learn/datasets/mnist.py:290: DataSet.__init__ (from tensorflow.contrib.learn.python.learn.datasets.mnist) is deprecated and will be removed in a future version.\n",
            "Instructions for updating:\n",
            "Please use alternatives such as official/mnist/dataset.py from tensorflow/models.\n"
          ],
          "name": "stdout"
        },
        {
          "output_type": "execute_result",
          "data": {
            "text/plain": [
              "array([7], dtype=uint8)"
            ]
          },
          "metadata": {
            "tags": []
          },
          "execution_count": 4
        }
      ]
    },
    {
      "cell_type": "code",
      "metadata": {
        "id": "qmo5OKEcW8y1",
        "colab_type": "code",
        "outputId": "d3e0c939-91db-4d79-8383-acc13aee0b56",
        "colab": {
          "base_uri": "https://localhost:8080/",
          "height": 156
        }
      },
      "source": [
        "from tensorflow.examples.tutorials.mnist import input_data\n",
        "mnist = input_data.read_data_sets('MNIST_data', one_hot=True)"
      ],
      "execution_count": 0,
      "outputs": [
        {
          "output_type": "stream",
          "text": [
            "Extracting MNIST_data/train-images-idx3-ubyte.gz\n",
            "Extracting MNIST_data/train-labels-idx1-ubyte.gz\n",
            "WARNING:tensorflow:From /usr/local/lib/python3.6/dist-packages/tensorflow/contrib/learn/python/learn/datasets/mnist.py:110: dense_to_one_hot (from tensorflow.contrib.learn.python.learn.datasets.mnist) is deprecated and will be removed in a future version.\n",
            "Instructions for updating:\n",
            "Please use tf.one_hot on tensors.\n",
            "Extracting MNIST_data/t10k-images-idx3-ubyte.gz\n",
            "Extracting MNIST_data/t10k-labels-idx1-ubyte.gz\n"
          ],
          "name": "stdout"
        }
      ]
    },
    {
      "cell_type": "code",
      "metadata": {
        "id": "TKFJeMxHW8y7",
        "colab_type": "code",
        "outputId": "9c9d07df-6a87-406b-8f44-3056c4915435",
        "colab": {
          "base_uri": "https://localhost:8080/",
          "height": 54
        }
      },
      "source": [
        "mnist"
      ],
      "execution_count": 0,
      "outputs": [
        {
          "output_type": "execute_result",
          "data": {
            "text/plain": [
              "Datasets(train=<tensorflow.contrib.learn.python.learn.datasets.mnist.DataSet object at 0x7fc01c34ee10>, validation=<tensorflow.contrib.learn.python.learn.datasets.mnist.DataSet object at 0x7fbfd6af3898>, test=<tensorflow.contrib.learn.python.learn.datasets.mnist.DataSet object at 0x7fbfd6af32e8>)"
            ]
          },
          "metadata": {
            "tags": []
          },
          "execution_count": 6
        }
      ]
    },
    {
      "cell_type": "markdown",
      "metadata": {
        "id": "MUuvfLfwW8zA",
        "colab_type": "text"
      },
      "source": [
        "Step 1a : Get Training and Test Data"
      ]
    },
    {
      "cell_type": "code",
      "metadata": {
        "id": "hGMiIygDW8zB",
        "colab_type": "code",
        "colab": {}
      },
      "source": [
        "trainX = mnist.train.images\n",
        "trainY = mnist.train.labels"
      ],
      "execution_count": 0,
      "outputs": []
    },
    {
      "cell_type": "code",
      "metadata": {
        "id": "tSgGLXhjW8zH",
        "colab_type": "code",
        "colab": {}
      },
      "source": [
        "testX = mnist.test.images\n",
        "testY = mnist.test.labels"
      ],
      "execution_count": 0,
      "outputs": []
    },
    {
      "cell_type": "markdown",
      "metadata": {
        "id": "ttHVMQMfW8zK",
        "colab_type": "text"
      },
      "source": [
        "How many Training and Test Examples?"
      ]
    },
    {
      "cell_type": "code",
      "metadata": {
        "id": "oe_4TBXbW8zK",
        "colab_type": "code",
        "outputId": "ad285320-cb15-42ba-94a7-58166c1de75a",
        "colab": {
          "base_uri": "https://localhost:8080/",
          "height": 34
        }
      },
      "source": [
        "trainY[0:1]"
      ],
      "execution_count": 0,
      "outputs": [
        {
          "output_type": "execute_result",
          "data": {
            "text/plain": [
              "array([[0., 0., 0., 0., 0., 0., 0., 1., 0., 0.]])"
            ]
          },
          "metadata": {
            "tags": []
          },
          "execution_count": 9
        }
      ]
    },
    {
      "cell_type": "markdown",
      "metadata": {
        "id": "vrTeJLiTW8zN",
        "colab_type": "text"
      },
      "source": [
        "Lets define some parameters"
      ]
    },
    {
      "cell_type": "code",
      "metadata": {
        "id": "VeExHZ_qW8zN",
        "colab_type": "code",
        "colab": {}
      },
      "source": [
        "logs_path = \"/content/\"\n",
        "learning_rate = 0.04\n",
        "n_features = trainX.shape[1]\n",
        "n_classes = trainY.shape[1]\n",
        "model_name = 'mnist.ckpt'\n",
        "\n",
        "#How many examples to feed for training at one time\n",
        "batch_size = 100\n",
        "\n",
        "#How many times all the data to be shown\n",
        "training_epochs = 100\n",
        "\n",
        "K = 200\n",
        "L = 100\n",
        "M = 60\n",
        "N = 30"
      ],
      "execution_count": 0,
      "outputs": []
    },
    {
      "cell_type": "markdown",
      "metadata": {
        "id": "vuhlSnbrW8zP",
        "colab_type": "text"
      },
      "source": [
        "# Build the Graph"
      ]
    },
    {
      "cell_type": "markdown",
      "metadata": {
        "id": "kk1McFvRW8zP",
        "colab_type": "text"
      },
      "source": [
        "Input placeholders"
      ]
    },
    {
      "cell_type": "code",
      "metadata": {
        "id": "yfot--syW8zQ",
        "colab_type": "code",
        "colab": {}
      },
      "source": [
        "with tf.name_scope('input'):\n",
        "    # None -> batch size can be any size, with n_features\n",
        "    x = tf.placeholder(tf.float32, shape=[None, n_features], name=\"x-input\") \n",
        "    # target n_classes output classes\n",
        "    y_ = tf.placeholder(tf.float32, shape=[None, n_classes], name=\"y-input\")"
      ],
      "execution_count": 0,
      "outputs": []
    },
    {
      "cell_type": "markdown",
      "metadata": {
        "id": "3pphsG8dW8zS",
        "colab_type": "text"
      },
      "source": [
        "Layer 1"
      ]
    },
    {
      "cell_type": "code",
      "metadata": {
        "id": "ybAq1wBLW8zS",
        "colab_type": "code",
        "colab": {}
      },
      "source": [
        "with tf.name_scope('layer_1'):\n",
        "    W1 = tf.Variable(tf.truncated_normal([n_features, K], stddev=0.1))\n",
        "    b1 = tf.Variable(tf.zeros([K]))\n",
        "    Y1 = tf.nn.sigmoid(tf.add(tf.matmul(x,W1),b1))"
      ],
      "execution_count": 0,
      "outputs": []
    },
    {
      "cell_type": "code",
      "metadata": {
        "id": "BRm3IUxsW8zU",
        "colab_type": "code",
        "colab": {}
      },
      "source": [
        "with tf.name_scope('layer_2'):\n",
        "    W2 = tf.Variable(tf.truncated_normal([K, L], stddev=0.1))\n",
        "    b2 = tf.Variable(tf.zeros([L]))\n",
        "    Y2 = tf.nn.sigmoid(tf.add(tf.matmul(Y1,W2),b2))"
      ],
      "execution_count": 0,
      "outputs": []
    },
    {
      "cell_type": "code",
      "metadata": {
        "id": "Z1XBCNtDW8zV",
        "colab_type": "code",
        "colab": {}
      },
      "source": [
        "with tf.name_scope('layer_3'):\n",
        "    W3 = tf.Variable(tf.truncated_normal([L, M], stddev=0.1))\n",
        "    b3 = tf.Variable(tf.zeros([M]))\n",
        "    Y3 = tf.nn.sigmoid(tf.add(tf.matmul(Y2,W3),b3))"
      ],
      "execution_count": 0,
      "outputs": []
    },
    {
      "cell_type": "code",
      "metadata": {
        "id": "WRyUtzoeW8zX",
        "colab_type": "code",
        "colab": {}
      },
      "source": [
        "with tf.name_scope('layer_4'):\n",
        "    W4 = tf.Variable(tf.truncated_normal([M, N], stddev=0.1))\n",
        "    b4 = tf.Variable(tf.zeros([N]))\n",
        "    Y4 = tf.nn.sigmoid(tf.add(tf.matmul(Y3,W4),b4))"
      ],
      "execution_count": 0,
      "outputs": []
    },
    {
      "cell_type": "markdown",
      "metadata": {
        "collapsed": true,
        "id": "qKU-g2ZsW8zY",
        "colab_type": "text"
      },
      "source": [
        "Prediction    "
      ]
    },
    {
      "cell_type": "code",
      "metadata": {
        "id": "H2bgqjGnW8zZ",
        "colab_type": "code",
        "colab": {}
      },
      "source": [
        "with tf.name_scope(\"Output\"):\n",
        "    W5 = tf.Variable(tf.truncated_normal([N,n_classes], stddev=0.1))\n",
        "    b5 = tf.Variable(tf.zeros([n_classes]))\n",
        "    y = tf.nn.softmax(tf.matmul(Y4,W5) + b5)"
      ],
      "execution_count": 0,
      "outputs": []
    },
    {
      "cell_type": "markdown",
      "metadata": {
        "id": "LrC1Sji6W8zb",
        "colab_type": "text"
      },
      "source": [
        "Loss"
      ]
    },
    {
      "cell_type": "code",
      "metadata": {
        "id": "ZS_sLGjCW8zb",
        "colab_type": "code",
        "colab": {}
      },
      "source": [
        "with tf.name_scope('Loss'):\n",
        "    cross_entropy = tf.reduce_mean(-tf.reduce_sum(y_ * tf.log(y), reduction_indices=[1]))"
      ],
      "execution_count": 0,
      "outputs": []
    },
    {
      "cell_type": "markdown",
      "metadata": {
        "id": "K-VHGMP-W8zg",
        "colab_type": "text"
      },
      "source": [
        "GradientDescent Optimizer"
      ]
    },
    {
      "cell_type": "code",
      "metadata": {
        "id": "lhmJp1pOW8zh",
        "colab_type": "code",
        "colab": {}
      },
      "source": [
        "with tf.name_scope('train'):        \n",
        "    train_op = tf.train.GradientDescentOptimizer(learning_rate).minimize(cross_entropy)    "
      ],
      "execution_count": 0,
      "outputs": []
    },
    {
      "cell_type": "markdown",
      "metadata": {
        "id": "HSPgaEQWW8zj",
        "colab_type": "text"
      },
      "source": [
        "Model Accuracy"
      ]
    },
    {
      "cell_type": "code",
      "metadata": {
        "id": "GB2HveEKW8zj",
        "colab_type": "code",
        "colab": {}
      },
      "source": [
        "with tf.name_scope('Accuracy'):\n",
        "    prediction = tf.argmax(y,1,name=\"Predict\")    \n",
        "    correct_prediction = tf.equal(prediction, tf.argmax(y_,1))\n",
        "    accuracy = tf.reduce_mean(tf.cast(correct_prediction, tf.float32),name=\"accuracy\")"
      ],
      "execution_count": 0,
      "outputs": []
    },
    {
      "cell_type": "markdown",
      "metadata": {
        "id": "HZ0XiSlbW8zl",
        "colab_type": "text"
      },
      "source": [
        "Loss and Accuracy Logging"
      ]
    },
    {
      "cell_type": "code",
      "metadata": {
        "id": "FnpH-VvcW8zl",
        "colab_type": "code",
        "colab": {}
      },
      "source": [
        "# create a summary for our cost and accuracy\n",
        "training_loss = tf.summary.scalar(\"training_loss\", cross_entropy)\n",
        "training_accuracy = tf.summary.scalar(\"training_accuracy\", accuracy)\n",
        "test_loss = tf.summary.scalar(\"test_loss\", cross_entropy)\n",
        "test_accuracy = tf.summary.scalar(\"test_accuracy\", accuracy)"
      ],
      "execution_count": 0,
      "outputs": []
    },
    {
      "cell_type": "code",
      "metadata": {
        "id": "f9xy8RhGW8zo",
        "colab_type": "code",
        "colab": {}
      },
      "source": [
        "#Create a Saver to save the graph\n",
        "saver = tf.train.Saver()"
      ],
      "execution_count": 0,
      "outputs": []
    },
    {
      "cell_type": "markdown",
      "metadata": {
        "id": "wkX4quhIW8zs",
        "colab_type": "text"
      },
      "source": [
        "# Execute the Graph"
      ]
    },
    {
      "cell_type": "code",
      "metadata": {
        "id": "YFXMDoRZW8zv",
        "colab_type": "code",
        "outputId": "2583636b-3aec-45c2-dfa8-8f62293a933b",
        "colab": {
          "base_uri": "https://localhost:8080/",
          "height": 697
        }
      },
      "source": [
        "#Start Graph execution\n",
        "with tf.Session() as sess:\n",
        "    # variables need to be initialized before we can use them\n",
        "    sess.run(tf.global_variables_initializer())\n",
        "\n",
        "    # create log writer object\n",
        "    writer = tf.summary.FileWriter(logs_path, graph=tf.get_default_graph())\n",
        "\n",
        "    # perform training cycles\n",
        "    for epoch in range(training_epochs):\n",
        "        \n",
        "        # number of batches in one epoch\n",
        "        batch_count = int(trainX.shape[0]/batch_size)\n",
        "        \n",
        "        for i in range(batch_count):\n",
        "            batch_x  = trainX[i*batch_size:i*batch_size+batch_size]\n",
        "            batch_y  = trainY[i*batch_size:i*batch_size+batch_size]\n",
        "\n",
        "            # perform the operations we defined earlier on batch\n",
        "            _,acc,loss = sess.run([train_op, training_accuracy,training_loss], \n",
        "                                  feed_dict={x: batch_x, y_: batch_y})\n",
        "            \n",
        "            #log training accuracy and loss\n",
        "            writer.add_summary(acc, epoch * batch_count + i)\n",
        "            writer.add_summary(loss, epoch * batch_count + i)    \n",
        "                       \n",
        "        #Test loss and accuracy\n",
        "        #pls note we are giving test data\n",
        "        acc,loss = sess.run([test_accuracy,test_loss],\n",
        "                                   feed_dict={x: testX, y_: testY})\n",
        "        writer.add_summary(acc, epoch * batch_count + i)\n",
        "        writer.add_summary(loss, epoch * batch_count + i)\n",
        "        \n",
        "        if epoch % 5 == 0: \n",
        "            print (\"Epoch: \", epoch)\n",
        "            print (\"Test Accuracy: \", accuracy.eval(feed_dict={x: testX, y_: testY}))               \n",
        "    \n",
        "    \n",
        "    #Save the model\n",
        "    saver.save(sess, logs_path + '/' + model_name)"
      ],
      "execution_count": 0,
      "outputs": [
        {
          "output_type": "stream",
          "text": [
            "Epoch:  0\n",
            "Test Accuracy:  0.1028\n",
            "Epoch:  5\n",
            "Test Accuracy:  0.1028\n",
            "Epoch:  10\n",
            "Test Accuracy:  0.1028\n",
            "Epoch:  15\n",
            "Test Accuracy:  0.1852\n",
            "Epoch:  20\n",
            "Test Accuracy:  0.2786\n",
            "Epoch:  25\n",
            "Test Accuracy:  0.4377\n",
            "Epoch:  30\n",
            "Test Accuracy:  0.6776\n",
            "Epoch:  35\n",
            "Test Accuracy:  0.7972\n",
            "Epoch:  40\n",
            "Test Accuracy:  0.8583\n",
            "Epoch:  45\n",
            "Test Accuracy:  0.8895\n",
            "Epoch:  50\n",
            "Test Accuracy:  0.9059\n",
            "Epoch:  55\n",
            "Test Accuracy:  0.9165\n",
            "Epoch:  60\n",
            "Test Accuracy:  0.926\n",
            "Epoch:  65\n",
            "Test Accuracy:  0.9319\n",
            "Epoch:  70\n",
            "Test Accuracy:  0.9359\n",
            "Epoch:  75\n",
            "Test Accuracy:  0.9399\n",
            "Epoch:  80\n",
            "Test Accuracy:  0.944\n",
            "Epoch:  85\n",
            "Test Accuracy:  0.9467\n",
            "Epoch:  90\n",
            "Test Accuracy:  0.9498\n",
            "Epoch:  95\n",
            "Test Accuracy:  0.952\n"
          ],
          "name": "stdout"
        }
      ]
    },
    {
      "cell_type": "code",
      "metadata": {
        "id": "_S8TsUiXW8zy",
        "colab_type": "code",
        "colab": {}
      },
      "source": [
        ""
      ],
      "execution_count": 0,
      "outputs": []
    }
  ]
}